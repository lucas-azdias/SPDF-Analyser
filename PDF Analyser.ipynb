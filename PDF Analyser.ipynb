{
  "nbformat": 4,
  "nbformat_minor": 0,
  "metadata": {
    "colab": {
      "provenance": [],
      "collapsed_sections": [
        "1wGvbCm7Hjeg",
        "6eWD5MFeNg59",
        "ksnGKJlnNO9c",
        "eeGIdAOSLKUm"
      ],
      "authorship_tag": "ABX9TyMxLC5y/+Doq3iPWGBsc/iK",
      "include_colab_link": true
    },
    "kernelspec": {
      "name": "python3",
      "display_name": "Python 3"
    },
    "language_info": {
      "name": "python"
    }
  },
  "cells": [
    {
      "cell_type": "markdown",
      "metadata": {
        "id": "view-in-github",
        "colab_type": "text"
      },
      "source": [
        "<a href=\"https://colab.research.google.com/github/lucas-azdias/SPDF-Analyser/blob/main/PDF%20Analyser.ipynb\" target=\"_parent\"><img src=\"https://colab.research.google.com/assets/colab-badge.svg\" alt=\"Open In Colab\"/></a>"
      ]
    },
    {
      "cell_type": "markdown",
      "source": [
        "Lucas Azevedo Dias\n",
        "\n",
        "---"
      ],
      "metadata": {
        "id": "cA1qLrLNE-gp"
      }
    },
    {
      "cell_type": "markdown",
      "source": [
        "Para realizar o trabalho utilizei um *parser* *Bottom-Up* LR(1).\n",
        "\n",
        "O módulo Python com o programa já é carregado automaticamente, porém é possível acessá-lo através do meu GitHub.\n",
        "\n",
        "Caso queira atualizar as opções de configurações, acesse o arquivo ```spdf_analyser/.config``` ou vá para seção [\"Configurando programa\"](#scrollTo=NtuKOt3qIcdW).\n",
        "\n",
        "**Código disponível em:** https://github.com/lucas-azdias/SPDF-Analyser/tree/main"
      ],
      "metadata": {
        "id": "0KfAdELcFEQc"
      }
    },
    {
      "cell_type": "markdown",
      "source": [
        "# Configurando ambiente\n"
      ],
      "metadata": {
        "id": "1wGvbCm7Hjeg"
      }
    },
    {
      "cell_type": "markdown",
      "source": [
        "### Instalando módulos Python necessários"
      ],
      "metadata": {
        "id": "6eWD5MFeNg59"
      }
    },
    {
      "cell_type": "code",
      "source": [
        "!pip install more-itertools tabulate"
      ],
      "metadata": {
        "colab": {
          "base_uri": "https://localhost:8080/"
        },
        "id": "1jrKPG4mNj1o",
        "outputId": "8b9352d5-4608-4420-a541-d8d844f142b6"
      },
      "execution_count": 13,
      "outputs": [
        {
          "output_type": "stream",
          "name": "stdout",
          "text": [
            "Requirement already satisfied: more-itertools in /usr/local/lib/python3.11/dist-packages (10.6.0)\n",
            "Requirement already satisfied: tabulate in /usr/local/lib/python3.11/dist-packages (0.9.0)\n"
          ]
        }
      ]
    },
    {
      "cell_type": "markdown",
      "source": [
        "### Clonando repositório Git"
      ],
      "metadata": {
        "id": "ksnGKJlnNO9c"
      }
    },
    {
      "cell_type": "code",
      "source": [
        "%cd /content/\n",
        "!git clone \"https://github.com/lucas-azdias/SPDF-Analyser.git\"\n",
        "%cd SPDF-Analyser"
      ],
      "metadata": {
        "colab": {
          "base_uri": "https://localhost:8080/"
        },
        "id": "c2fBsGLLE9-0",
        "outputId": "3859d79a-baae-47c9-80fe-439d781e1b26"
      },
      "execution_count": 14,
      "outputs": [
        {
          "output_type": "stream",
          "name": "stdout",
          "text": [
            "/content\n",
            "fatal: destination path 'SPDF-Analyser' already exists and is not an empty directory.\n",
            "/content/SPDF-Analyser\n"
          ]
        }
      ]
    },
    {
      "cell_type": "markdown",
      "source": [
        "# Configurando programa\n"
      ],
      "metadata": {
        "id": "NtuKOt3qIcdW"
      }
    },
    {
      "cell_type": "markdown",
      "source": [
        "O arquivo de configuração do programa é o ```spdf_analyser/.config```.\n",
        "\n",
        "Nele há três opções válidas: ```generate_summary```, ```extract_text```, ```detect_cycles```. Sendo possível atribuir ou o valor ```true```, ou o valor ```false``` para qualquer uma delas."
      ],
      "metadata": {
        "id": "e5wNkPpsKFAx"
      }
    },
    {
      "cell_type": "code",
      "source": [
        "%%writefile spdf_analyser/.config\n",
        "generate_summary=true\n",
        "extract_text=true\n",
        "detect_cycles=true"
      ],
      "metadata": {
        "colab": {
          "base_uri": "https://localhost:8080/"
        },
        "id": "yLXPc9m2IeBM",
        "outputId": "e3677eab-9019-4328-c860-1be08c5bae06"
      },
      "execution_count": 15,
      "outputs": [
        {
          "output_type": "stream",
          "name": "stdout",
          "text": [
            "Overwriting spdf_analyser/.config\n"
          ]
        }
      ]
    },
    {
      "cell_type": "markdown",
      "source": [
        "# Executando programa"
      ],
      "metadata": {
        "id": "QjlYXIQKK756"
      }
    },
    {
      "cell_type": "markdown",
      "source": [
        "O programa segue a sintáxe: ```python3 -m spdf_analyser <filepath> [<config_filepath>] [<output_filepath>]```, sendo opicionais os argumentos entre colchetes."
      ],
      "metadata": {
        "id": "gQ8syivSL7cw"
      }
    },
    {
      "cell_type": "markdown",
      "source": [
        "### Teste"
      ],
      "metadata": {
        "id": "eeGIdAOSLKUm"
      }
    },
    {
      "cell_type": "code",
      "source": [
        "!python3 -m spdf_analyser spdf_analyser/in/example1.spdf spdf_analyser/.config spdf_analyser/out/output1.txt"
      ],
      "metadata": {
        "colab": {
          "base_uri": "https://localhost:8080/"
        },
        "id": "bb-CiHNsLNH8",
        "outputId": "e4802373-8f01-440b-d7c3-dd4954b05ddf"
      },
      "execution_count": 16,
      "outputs": [
        {
          "output_type": "stream",
          "name": "stdout",
          "text": [
            "Loading file... successfully.\n",
            "\n",
            "Loading config file... successfully.\n",
            "\n",
            "VALIDATION:\n",
            "[OK] General structure\n",
            "[OK] Objects syntax\n",
            "[OK] References\n",
            "[OK] Tabela XREF\n",
            "[OK] Hierarchy structure\n",
            "\n",
            "STATISTICS:\n",
            "Total of objects: 15\n",
            "Objects per type: Catalog=1, Pages=1, Page=2, Font=3, FontDescriptor=1, Outlines=1, Metadata=2\n",
            "Total of pages: 2\n",
            "Size of document: 3079 bytes\n",
            "Structural overhead: 923 bytes (30.0%)\n",
            "\n",
            "CONTENT:\n",
            "Title: Relatório Financeiro Trimestral\n",
            "Author: Departamento Financeiro\n",
            "Creation date: 18/04/2023 09:00\n",
            "Extracted text (first 200 characters): \"BT\n",
            "/F1 24 Tf\n",
            "100 700 Td\n",
            "(Relatório Financeiro: Primeiro Trimestre) Tj\n",
            "/F1 12 Tf\n",
            "0 -50 Td\n",
            "(Total de vendas: 1423 unidades) Tj\n",
            "0 -20 Td\n",
            "(Receita total: 158432.75 reais) Tj\n",
            "ET\n",
            "BT\n",
            "/F1 18 Tf\n",
            "100 700 Td\n",
            "(De\"\n",
            "\n",
            "OBJECTS TREE:\n",
            "1: Catalog\n",
            "+--2: Pages\n",
            "   +--4: Page\n",
            "      +--9: Font\n",
            "      +--5: Font Type1\n",
            "         +--10: FontDescriptor\n",
            "   +--3: Page\n",
            "      +--6: Font\n",
            "      +--5: Font Type1\n",
            "         +--10: FontDescriptor\n",
            "8: Outlines\n",
            "+--11: Unknown\n",
            "+--12: Unknown\n",
            "+--13: Unknown\n",
            "\n",
            "ADVANCED ANALYSIS:\n",
            "Summary: Resumo Executivo, Detalhamento de Vendas, Projeções Futuras\n",
            "Extract text: Exported to file \"spdf_analyser/out/output1.txt\" with success\n",
            "Detect cycles: No cycles detected\n",
            "\n",
            "Executed analysis into 0.19s"
          ]
        }
      ]
    }
  ]
}